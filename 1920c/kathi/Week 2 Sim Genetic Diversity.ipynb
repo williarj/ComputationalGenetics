{
 "cells": [
  {
   "cell_type": "code",
   "execution_count": 20,
   "metadata": {},
   "outputs": [],
   "source": [
    "def measureS(chroms):\n",
    "    locis = len(chroms[0])\n",
    "    numChrom = len(chroms)\n",
    "    s = 0\n",
    "    for i in range(locis):\n",
    "        if sameS(chroms,i,numChrom):\n",
    "            s += 1\n",
    "    return s             \n",
    "            \n",
    "def sameS(chroms,loci,numChrom):\n",
    "    allele = chroms[0][loci]\n",
    "    for k in range(numChrom):\n",
    "        if chroms[k][loci] != allele:\n",
    "            return False\n",
    "    return True \n"
   ]
  },
  {
   "cell_type": "code",
   "execution_count": 21,
   "metadata": {},
   "outputs": [],
   "source": [
    "import math\n",
    "import numpy as np\n"
   ]
  },
  {
   "cell_type": "code",
   "execution_count": 22,
   "metadata": {},
   "outputs": [],
   "source": [
    "def measurePi(chroms):\n",
    "    locis = len(chroms[0])\n",
    "    numChrom = len(chroms)\n",
    "    pi = 0\n",
    "    nc2 = math.factorial(numChrom)/(2*math.factorial(numChrom-2))\n",
    "    for i in range(numChrom):\n",
    "        for j in range(i,numChrom):\n",
    "            if i!=j:\n",
    "                pairPi = samePi(chroms[i],chroms[j])\n",
    "                pi+=pairPi\n",
    "    finalPi = pi/nc2\n",
    "    return finalPi\n",
    "                \n",
    "def samePi(chrom1, chrom2):\n",
    "    thisPi = 0\n",
    "    for i in range(len(chrom1)):\n",
    "        if chrom1[i]!=chrom2[i]:\n",
    "            thisPi+=1\n",
    "    return thisPi"
   ]
  },
  {
   "cell_type": "code",
   "execution_count": 35,
   "metadata": {},
   "outputs": [],
   "source": [
    "def main():\n",
    "    chroms = []\n",
    "    for i in range(1,11):\n",
    "        file = open(\"kathi\"+str(i)+\".txt\",\"r\")\n",
    "        lines = file.readlines()\n",
    "        chroms.append(lines)\n",
    "        \n",
    "    #pass data to s and get list of s vals\n",
    "    #s = []\n",
    "    #for j in range(len(chroms)):\n",
    "     #   thisS = measureS(chroms[j])\n",
    "      #  s.append(thisS)\n",
    "        \n",
    "    #pass data to pi and get list of pi vals\n",
    "    pi = []\n",
    "    for k in range(len(chroms)):\n",
    "        thisPi = measurePi(chroms[k])\n",
    "        pi.append(thisPi)\n",
    "        \n",
    "    #get average for s\n",
    "    #avgS = np.mean(s)\n",
    "    \n",
    "    #get avg for pi\n",
    "    avgPi = np.mean(pi)\n",
    "    \n",
    "    #get std for s and pi\n",
    "    #stdS = np.std(s)\n",
    "    stdPi = np.std(pi)\n",
    "    \n",
    "    #with Ne\n",
    "    chroms_c = []\n",
    "    for i in range(1,11):\n",
    "        file_c = open(\"kathi_constant_\"+str(i)+\".txt\",\"r\")\n",
    "        lines_c = file_c.readlines()\n",
    "        chroms_c.append(lines_c)\n",
    "        \n",
    "    #pass data to s and get list of s vals\n",
    "    #s_c = []\n",
    "    #for j in range(len(chroms_c)):\n",
    "     #   thisS_c = measureS(chroms_c[j])\n",
    "      #  s_c.append(thisS_c)\n",
    "        \n",
    "    #pass data to pi and get list of pi vals\n",
    "    pi_c = []\n",
    "    for k in range(len(chroms_c)):\n",
    "        thisPi_c = measurePi(chroms_c[k])\n",
    "        pi_c.append(thisPi_c)\n",
    "        \n",
    "    #get average for s\n",
    "    #avgS_c = np.mean(s_c)\n",
    "    \n",
    "    #get avg for pi\n",
    "    avgPi_c = np.mean(pi_c)\n",
    "    \n",
    "    #get std for s\n",
    "    #stdS_c = np.std(s_c)\n",
    "    stdPi_c = np.std(pi_c)\n",
    "\n",
    " \n",
    "    print('Genetic Diversity with changes in population size')\n",
    "    #print(\"S\")\n",
    "    #print(s)\n",
    "    print(\"Pi\")\n",
    "    print(pi)\n",
    "    print()\n",
    "    #print('Avg S: ', avgS)\n",
    "    print('Avg Pi: ', avgPi)\n",
    "    \n",
    "    #print('STD S: ', stdS)\n",
    "    print('STD Pi: ', stdPi)\n",
    "    print()\n",
    "    print('Genetic diversity using harmonic population mean')\n",
    "    #print(\"S\")\n",
    "    #print(s_c)\n",
    "    print(\"Pi\")\n",
    "    print(pi_c)\n",
    "    print()\n",
    "    #print('Avg S: ', avgS_c)\n",
    "    print('Avg Pi: ', avgPi_c)\n",
    "    #print('STD S: ', stdS_c)\n",
    "    print('STD Pi: ', stdPi_c)\n"
   ]
  },
  {
   "cell_type": "code",
   "execution_count": 36,
   "metadata": {},
   "outputs": [
    {
     "name": "stdout",
     "output_type": "stream",
     "text": [
      "Genetic Diversity with changes in population size\n",
      "Pi\n",
      "[12.598258258258259, 23.273735735735738, 19.894116116116116, 23.932024024024024, 16.080806806806805, 10.163785785785786, 20.24482882882883, 25.803011011011012, 39.00465665665666, 11.529677677677677]\n",
      "\n",
      "Avg Pi:  20.25249009009009\n",
      "STD Pi:  8.118540734205656\n",
      "\n",
      "Genetic diversity using harmonic population mean\n",
      "Pi\n",
      "[12.74452838638962, 11.349731477443713, 15.158005979390353, 10.677285781072598, 12.668230265458217, 5.782113686989522, 7.688839911841314, 25.20340141666765, 9.945022609324235, 19.369429679305103]\n",
      "\n",
      "Avg Pi:  13.058658919388233\n",
      "STD Pi:  5.404147826469825\n"
     ]
    }
   ],
   "source": [
    "main()"
   ]
  },
  {
   "cell_type": "code",
   "execution_count": 32,
   "metadata": {},
   "outputs": [
    {
     "name": "stdout",
     "output_type": "stream",
     "text": [
      "Segregating sites with changing population size\n",
      "[113, 192, 168, 159, 129, 108, 146, 160, 180, 138]\n",
      "Avg:  149.3\n",
      "STD:   26.264234235933856\n",
      "\n",
      "Segregating sites with cinstant population size at Ne\n",
      "[85, 82, 110, 100, 129, 108, 90, 145, 69, 116]\n",
      "Avg:  103.4\n",
      "STD:  21.864125868646113\n"
     ]
    }
   ],
   "source": [
    "s = [113,192,168,159,129,108,146,160,180,138]\n",
    "s_c = [85,82,110,100,129,108,90,145,69,116]\n",
    "print('Segregating sites with changing population size')\n",
    "print(s)\n",
    "print('Avg: ', np.mean(s))\n",
    "print('STD:  ', np.std(s))\n",
    "print()\n",
    "print('Segregating sites with cinstant population size at Ne')\n",
    "print(s_c)\n",
    "print('Avg: ', np.mean(s_c))\n",
    "print('STD: ', np.std(s_c))"
   ]
  },
  {
   "cell_type": "code",
   "execution_count": null,
   "metadata": {},
   "outputs": [],
   "source": []
  }
 ],
 "metadata": {
  "kernelspec": {
   "display_name": "Python 3",
   "language": "python",
   "name": "python3"
  },
  "language_info": {
   "codemirror_mode": {
    "name": "ipython",
    "version": 3
   },
   "file_extension": ".py",
   "mimetype": "text/x-python",
   "name": "python",
   "nbconvert_exporter": "python",
   "pygments_lexer": "ipython3",
   "version": "3.7.3"
  }
 },
 "nbformat": 4,
 "nbformat_minor": 2
}
